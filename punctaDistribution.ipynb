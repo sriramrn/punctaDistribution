{
 "cells": [
  {
   "cell_type": "code",
   "execution_count": 1,
   "metadata": {
    "collapsed": true
   },
   "outputs": [],
   "source": [
    "import numpy as np\n",
    "import matplotlib.pyplot as plt\n",
    "\n",
    "%matplotlib inline"
   ]
  },
  {
   "cell_type": "markdown",
   "metadata": {},
   "source": [
    "# Input Parameters\n",
    "\n",
    "## All lengths are expressed in microns\n",
    "\n",
    "## Results are very sensitive to the branchRadius parameter"
   ]
  },
  {
   "cell_type": "code",
   "execution_count": 118,
   "metadata": {
    "collapsed": true
   },
   "outputs": [],
   "source": [
    "dendriteLength = 50 # total dendrite length in microns\n",
    "\n",
    "nPuncta = 50 # total number of puncta in the said length of dendrite \n",
    "\n",
    "nBranches = 10 # total number of branches in the said length of dendrite\n",
    "\n",
    "branchRadius = 0.5 # minimum distance in either direction from branch points to call puncta as branch coincident\n",
    "\n",
    "iterations = 1000 # number of runs\n",
    "\n",
    "numToPlot = 5 # randomly chosen iterations to plot from amongst all the runs"
   ]
  },
  {
   "cell_type": "markdown",
   "metadata": {},
   "source": [
    "# Generate Dendrite"
   ]
  },
  {
   "cell_type": "code",
   "execution_count": 119,
   "metadata": {
    "collapsed": false
   },
   "outputs": [],
   "source": [
    "punctaLocs = []\n",
    "branchPoints = []\n",
    "\n",
    "branchLocalizedFraction = []\n",
    "\n",
    "for i in range(iterations):\n",
    "\n",
    "    plocs = np.random.uniform(0,dendriteLength, size = nPuncta)\n",
    "    bpoints = np.random.uniform(0,dendriteLength, size = nBranches)    \n",
    "    \n",
    "    punctaLocs.append(plocs)\n",
    "    branchPoints.append(bpoints)\n",
    "    \n",
    "    nCoincident = 0\n",
    "    for p in plocs:\n",
    "        for b in bpoints:\n",
    "            dscore = abs(p-b)\n",
    "            if dscore <= branchRadius:\n",
    "                nCoincident += 1\n",
    "                \n",
    "    blocfrac  = nCoincident/nPuncta\n",
    "    branchLocalizedFraction.append(blocfrac)"
   ]
  },
  {
   "cell_type": "markdown",
   "metadata": {},
   "source": [
    "# Plot sample dendrites"
   ]
  },
  {
   "cell_type": "code",
   "execution_count": 120,
   "metadata": {
    "collapsed": false
   },
   "outputs": [
    {
     "data": {
      "image/png": "[encoded data removed]",
      "text/plain": [
       "<matplotlib.figure.Figure at 0x7f9f70995978>"
      ]
     },
     "metadata": {},
     "output_type": "display_data"
    }
   ],
   "source": [
    "fig, axarr = plt.subplots(numToPlot, figsize=[16,numToPlot])\n",
    "\n",
    "toplot = np.random.randint(0,high = iterations, size = numToPlot)\n",
    "\n",
    "for i in range(numToPlot):\n",
    "    \n",
    "    axarr[i].scatter(punctaLocs[toplot[i]], np.zeros(nPuncta), s=50, color = 'red', zorder = 2)\n",
    "\n",
    "    axarr[i].scatter(branchPoints[toplot[i]], np.zeros(nBranches), s=75, color = 'black', zorder = 1)\n",
    "\n",
    "    axarr[i].hlines(0,0,dendriteLength, linewidth = 6, color = 'green', alpha = 0.6, zorder = 0)\n",
    "    \n",
    "    axarr[i].set_xticks([])\n",
    "    axarr[i].set_yticks([])\n",
    "    axarr[i].set_frame_on(False)"
   ]
  },
  {
   "cell_type": "markdown",
   "metadata": {},
   "source": [
    "# Branch Localization Probability"
   ]
  },
  {
   "cell_type": "code",
   "execution_count": 121,
   "metadata": {
    "collapsed": false
   },
   "outputs": [
    {
     "name": "stdout",
     "output_type": "stream",
     "text": [
      "20.0% of all puncta are branch localized by chance\n"
     ]
    },
    {
     "data": {
      "image/png": "[encoded data removed]",
      "text/plain": [
       "<matplotlib.figure.Figure at 0x7f9f709535f8>"
      ]
     },
     "metadata": {},
     "output_type": "display_data"
    }
   ],
   "source": [
    "box = plt.boxplot(branchLocalizedFraction, 1)\n",
    "print('{}% of all puncta are branch localized by chance'.format(np.median(branchLocalizedFraction)*100))"
   ]
  },
  {
   "cell_type": "code",
   "execution_count": null,
   "metadata": {
    "collapsed": true
   },
   "outputs": [],
   "source": []
  }
 ],
 "metadata": {
  "anaconda-cloud": {},
  "kernelspec": {
   "display_name": "Python [conda root]",
   "language": "python",
   "name": "conda-root-py"
  },
  "language_info": {
   "codemirror_mode": {
    "name": "ipython",
    "version": 3
   },
   "file_extension": ".py",
   "mimetype": "text/x-python",
   "name": "python",
   "nbconvert_exporter": "python",
   "pygments_lexer": "ipython3",
   "version": "3.5.2"
  }
 },
 "nbformat": 4,
 "nbformat_minor": 1
}
